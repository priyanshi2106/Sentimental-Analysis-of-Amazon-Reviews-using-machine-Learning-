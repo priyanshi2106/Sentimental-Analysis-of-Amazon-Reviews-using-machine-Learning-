{
  "metadata": {
    "kernelspec": {
      "language": "python",
      "display_name": "Python 3",
      "name": "python3"
    },
    "language_info": {
      "name": "python",
      "version": "3.7.12",
      "mimetype": "text/x-python",
      "codemirror_mode": {
        "name": "ipython",
        "version": 3
      },
      "pygments_lexer": "ipython3",
      "nbconvert_exporter": "python",
      "file_extension": ".py"
    },
    "colab": {
      "name": "MLmodels.ipynb",
      "provenance": [],
      "machine_shape": "hm"
    }
  },
  "nbformat_minor": 0,
  "nbformat": 4,
  "cells": [
    {
      "cell_type": "code",
      "source": [
        "import numpy as np # linear algebra\n",
        "import pandas as pd # data processing, CSV file I/O (e.g. pd.read_csv)"
      ],
      "metadata": {
        "_uuid": "8f2839f25d086af736a60e9eeb907d3b93b6e0e5",
        "_cell_guid": "b1076dfc-b9ad-4769-8c92-a6c4dae69d19",
        "execution": {
          "iopub.status.busy": "2021-12-11T22:08:03.638111Z",
          "iopub.execute_input": "2021-12-11T22:08:03.638790Z",
          "iopub.status.idle": "2021-12-11T22:08:03.667659Z",
          "shell.execute_reply.started": "2021-12-11T22:08:03.638692Z",
          "shell.execute_reply": "2021-12-11T22:08:03.666769Z"
        },
        "trusted": true,
        "id": "GIa3U7GyoEs0"
      },
      "execution_count": 1,
      "outputs": []
    },
    {
      "cell_type": "code",
      "source": [
        "! pip install -q kaggle\n",
        "\n",
        "from google.colab import files\n",
        "\n",
        "files.upload()"
      ],
      "metadata": {
        "colab": {
          "resources": {
            "http://localhost:8080/nbextensions/google.colab/files.js": {
              "data": "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",
              "ok": true,
              "headers": [
                [
                  "content-type",
                  "application/javascript"
                ]
              ],
              "status": 200,
              "status_text": ""
            }
          },
          "base_uri": "https://localhost:8080/",
          "height": 90
        },
        "id": "r1wtBqfloWDR",
        "outputId": "64c3379e-6989-47b8-bc3a-41ab3b33f2e7"
      },
      "execution_count": 2,
      "outputs": [
        {
          "output_type": "display_data",
          "data": {
            "text/html": [
              "\n",
              "     <input type=\"file\" id=\"files-ee10c8a3-64e5-4f78-bdab-eed7236dfc6a\" name=\"files[]\" multiple disabled\n",
              "        style=\"border:none\" />\n",
              "     <output id=\"result-ee10c8a3-64e5-4f78-bdab-eed7236dfc6a\">\n",
              "      Upload widget is only available when the cell has been executed in the\n",
              "      current browser session. Please rerun this cell to enable.\n",
              "      </output>\n",
              "      <script src=\"/nbextensions/google.colab/files.js\"></script> "
            ],
            "text/plain": [
              "<IPython.core.display.HTML object>"
            ]
          },
          "metadata": {}
        },
        {
          "output_type": "stream",
          "name": "stdout",
          "text": [
            "Saving kaggle.json to kaggle.json\n"
          ]
        },
        {
          "output_type": "execute_result",
          "data": {
            "text/plain": [
              "{'kaggle.json': b'{\"username\":\"rheasaxena\",\"key\":\"d6f037a543752a06aac21fa8ab7d4aa2\"}'}"
            ]
          },
          "metadata": {},
          "execution_count": 2
        }
      ]
    },
    {
      "cell_type": "code",
      "source": [
        "! mkdir ~/.kaggle\n",
        "\n",
        "! cp kaggle.json ~/.kaggle/"
      ],
      "metadata": {
        "id": "9VtmBKyUrrJB"
      },
      "execution_count": 3,
      "outputs": []
    },
    {
      "cell_type": "code",
      "source": [
        "! chmod 600 ~/.kaggle/kaggle.json"
      ],
      "metadata": {
        "id": "M5iukxcHrzBT"
      },
      "execution_count": 4,
      "outputs": []
    },
    {
      "cell_type": "code",
      "source": [
        "! kaggle datasets list"
      ],
      "metadata": {
        "colab": {
          "base_uri": "https://localhost:8080/"
        },
        "id": "sEClJShMr4TU",
        "outputId": "78afcc86-9403-42be-964f-0eda6f80ab6c"
      },
      "execution_count": 5,
      "outputs": [
        {
          "output_type": "stream",
          "name": "stdout",
          "text": [
            "Warning: Looks like you're using an outdated API Version, please consider updating (server 1.5.12 / client 1.5.4)\n",
            "ref                                                         title                                              size  lastUpdated          downloadCount  \n",
            "----------------------------------------------------------  ------------------------------------------------  -----  -------------------  -------------  \n",
            "gpreda/reddit-vaccine-myths                                 Reddit Vaccine Myths                              237KB  2021-12-03 07:25:55          17651  \n",
            "crowww/a-large-scale-fish-dataset                           A Large Scale Fish Dataset                          3GB  2021-04-28 17:03:01          10526  \n",
            "imsparsh/musicnet-dataset                                   MusicNet Dataset                                   22GB  2021-02-18 14:12:19           5185  \n",
            "dhruvildave/wikibooks-dataset                               Wikibooks Dataset                                   2GB  2021-10-22 10:48:21           3800  \n",
            "promptcloud/careerbuilder-job-listing-2020                  Careerbuilder Job Listing 2020                     42MB  2021-03-05 06:59:52           2968  \n",
            "fatiimaezzahra/famous-iconic-women                          Famous Iconic Women                               838MB  2021-02-28 14:56:00           2100  \n",
            "nickuzmenkov/nih-chest-xrays-tfrecords                      NIH Chest X-rays TFRecords                         11GB  2021-03-09 04:49:23           1803  \n",
            "alsgroup/end-als                                            End ALS Kaggle Challenge                           12GB  2021-04-08 12:16:37           1161  \n",
            "simiotic/github-code-snippets                               GitHub Code Snippets                                7GB  2021-03-03 11:34:39            545  \n",
            "coloradokb/dandelionimages                                  DandelionImages                                     4GB  2021-02-19 20:03:47           1084  \n",
            "landrykezebou/lvzhdr-tone-mapping-benchmark-dataset-tmonet  LVZ-HDR Tone Mapping Benchmark Dataset (TMO-Net)   24GB  2021-03-01 05:03:40            257  \n",
            "stuartjames/lights                                          LightS: Light Specularity Dataset                  18GB  2021-02-18 14:32:26            243  \n",
            "nickuzmenkov/ranzcr-clip-kfold-tfrecords                    RANZCR CLiP KFold TFRecords                         2GB  2021-02-21 13:29:51            169  \n",
            "imsparsh/accentdb-core-extended                             AccentDB - Core & Extended                          6GB  2021-02-17 14:22:54            201  \n",
            "datasnaek/youtube-new                                       Trending YouTube Video Statistics                 201MB  2019-06-03 00:56:47         161155  \n",
            "zynicide/wine-reviews                                       Wine Reviews                                       51MB  2017-11-27 17:08:04         150735  \n",
            "residentmario/ramen-ratings                                 Ramen Ratings                                      40KB  2018-01-11 16:04:39          31066  \n",
            "datasnaek/chess                                             Chess Game Dataset (Lichess)                        3MB  2017-09-04 03:09:09          26226  \n",
            "rtatman/188-million-us-wildfires                            1.88 Million US Wildfires                         168MB  2020-05-12 21:03:49          18292  \n",
            "jpmiller/publicassistance                                   US Public Food Assistance                         703KB  2020-08-21 16:51:18          14997  \n"
          ]
        }
      ]
    },
    {
      "cell_type": "code",
      "source": [
        "!kaggle datasets download -d kritanjalijain/amazon-reviews"
      ],
      "metadata": {
        "colab": {
          "base_uri": "https://localhost:8080/"
        },
        "id": "hrzvheyDr-yx",
        "outputId": "5f5a6d9f-a19a-4f2f-a852-d77016fbe4ae"
      },
      "execution_count": 6,
      "outputs": [
        {
          "output_type": "stream",
          "name": "stdout",
          "text": [
            "Downloading amazon-reviews.zip to /content\n",
            " 99% 1.28G/1.29G [00:09<00:00, 153MB/s]\n",
            "100% 1.29G/1.29G [00:10<00:00, 138MB/s]\n"
          ]
        }
      ]
    },
    {
      "cell_type": "code",
      "source": [
        "! unzip amazon-reviews.zip "
      ],
      "metadata": {
        "colab": {
          "base_uri": "https://localhost:8080/"
        },
        "id": "oqdhEYIRsrsU",
        "outputId": "5a41ec57-0acf-4cf7-d38e-22c25543b3f2"
      },
      "execution_count": 7,
      "outputs": [
        {
          "output_type": "stream",
          "name": "stdout",
          "text": [
            "Archive:  amazon-reviews.zip\n",
            "  inflating: amazon_review_polarity_csv.tgz  \n",
            "  inflating: test.csv                \n",
            "  inflating: train.csv               \n"
          ]
        }
      ]
    },
    {
      "cell_type": "code",
      "source": [
        "data = pd.read_csv('/content/train.csv',names=['label','title','text'])"
      ],
      "metadata": {
        "execution": {
          "iopub.status.busy": "2021-12-11T22:08:03.669012Z",
          "iopub.execute_input": "2021-12-11T22:08:03.669611Z",
          "iopub.status.idle": "2021-12-11T22:08:43.272538Z",
          "shell.execute_reply.started": "2021-12-11T22:08:03.669558Z",
          "shell.execute_reply": "2021-12-11T22:08:43.271580Z"
        },
        "trusted": true,
        "id": "xhpeJYCloEs3"
      },
      "execution_count": 8,
      "outputs": []
    },
    {
      "cell_type": "code",
      "source": [
        "data['review'] = data[['title', 'text']].astype(str).apply(' '.join, axis=1)\n",
        "data.drop('title', axis=1, inplace=True)\n",
        "data.drop('text', axis=1, inplace=True)\n",
        "data['label'].replace({2: 0}, inplace=True)\n",
        "data"
      ],
      "metadata": {
        "execution": {
          "iopub.status.busy": "2021-12-11T22:08:43.274424Z",
          "iopub.execute_input": "2021-12-11T22:08:43.275029Z",
          "iopub.status.idle": "2021-12-11T22:09:28.054073Z",
          "shell.execute_reply.started": "2021-12-11T22:08:43.274991Z",
          "shell.execute_reply": "2021-12-11T22:09:28.053217Z"
        },
        "trusted": true,
        "id": "c-FMkI2poEs4",
        "colab": {
          "base_uri": "https://localhost:8080/",
          "height": 424
        },
        "outputId": "5d9a42f8-98c9-44e4-f998-e4542532e2b0"
      },
      "execution_count": 9,
      "outputs": [
        {
          "output_type": "execute_result",
          "data": {
            "text/html": [
              "<div>\n",
              "<style scoped>\n",
              "    .dataframe tbody tr th:only-of-type {\n",
              "        vertical-align: middle;\n",
              "    }\n",
              "\n",
              "    .dataframe tbody tr th {\n",
              "        vertical-align: top;\n",
              "    }\n",
              "\n",
              "    .dataframe thead th {\n",
              "        text-align: right;\n",
              "    }\n",
              "</style>\n",
              "<table border=\"1\" class=\"dataframe\">\n",
              "  <thead>\n",
              "    <tr style=\"text-align: right;\">\n",
              "      <th></th>\n",
              "      <th>label</th>\n",
              "      <th>review</th>\n",
              "    </tr>\n",
              "  </thead>\n",
              "  <tbody>\n",
              "    <tr>\n",
              "      <th>0</th>\n",
              "      <td>0</td>\n",
              "      <td>Stuning even for the non-gamer This sound trac...</td>\n",
              "    </tr>\n",
              "    <tr>\n",
              "      <th>1</th>\n",
              "      <td>0</td>\n",
              "      <td>The best soundtrack ever to anything. I'm read...</td>\n",
              "    </tr>\n",
              "    <tr>\n",
              "      <th>2</th>\n",
              "      <td>0</td>\n",
              "      <td>Amazing! This soundtrack is my favorite music ...</td>\n",
              "    </tr>\n",
              "    <tr>\n",
              "      <th>3</th>\n",
              "      <td>0</td>\n",
              "      <td>Excellent Soundtrack I truly like this soundtr...</td>\n",
              "    </tr>\n",
              "    <tr>\n",
              "      <th>4</th>\n",
              "      <td>0</td>\n",
              "      <td>Remember, Pull Your Jaw Off The Floor After He...</td>\n",
              "    </tr>\n",
              "    <tr>\n",
              "      <th>...</th>\n",
              "      <td>...</td>\n",
              "      <td>...</td>\n",
              "    </tr>\n",
              "    <tr>\n",
              "      <th>3599995</th>\n",
              "      <td>1</td>\n",
              "      <td>Don't do it!! The high chair looks great when ...</td>\n",
              "    </tr>\n",
              "    <tr>\n",
              "      <th>3599996</th>\n",
              "      <td>1</td>\n",
              "      <td>Looks nice, low functionality I have used this...</td>\n",
              "    </tr>\n",
              "    <tr>\n",
              "      <th>3599997</th>\n",
              "      <td>1</td>\n",
              "      <td>compact, but hard to clean We have a small hou...</td>\n",
              "    </tr>\n",
              "    <tr>\n",
              "      <th>3599998</th>\n",
              "      <td>1</td>\n",
              "      <td>what is it saying? not sure what this book is ...</td>\n",
              "    </tr>\n",
              "    <tr>\n",
              "      <th>3599999</th>\n",
              "      <td>0</td>\n",
              "      <td>Makes My Blood Run Red-White-And-Blue I agree ...</td>\n",
              "    </tr>\n",
              "  </tbody>\n",
              "</table>\n",
              "<p>3600000 rows × 2 columns</p>\n",
              "</div>"
            ],
            "text/plain": [
              "         label                                             review\n",
              "0            0  Stuning even for the non-gamer This sound trac...\n",
              "1            0  The best soundtrack ever to anything. I'm read...\n",
              "2            0  Amazing! This soundtrack is my favorite music ...\n",
              "3            0  Excellent Soundtrack I truly like this soundtr...\n",
              "4            0  Remember, Pull Your Jaw Off The Floor After He...\n",
              "...        ...                                                ...\n",
              "3599995      1  Don't do it!! The high chair looks great when ...\n",
              "3599996      1  Looks nice, low functionality I have used this...\n",
              "3599997      1  compact, but hard to clean We have a small hou...\n",
              "3599998      1  what is it saying? not sure what this book is ...\n",
              "3599999      0  Makes My Blood Run Red-White-And-Blue I agree ...\n",
              "\n",
              "[3600000 rows x 2 columns]"
            ]
          },
          "metadata": {},
          "execution_count": 9
        }
      ]
    },
    {
      "cell_type": "code",
      "source": [
        "print(data.info())\n",
        "print(\"-\"*80)\n",
        "print(\"The Dataset contains class level count as\\n\", data[\"label\"].value_counts())"
      ],
      "metadata": {
        "execution": {
          "iopub.status.busy": "2021-12-11T22:09:32.765505Z",
          "iopub.execute_input": "2021-12-11T22:09:32.766273Z",
          "iopub.status.idle": "2021-12-11T22:09:32.803452Z",
          "shell.execute_reply.started": "2021-12-11T22:09:32.766232Z",
          "shell.execute_reply": "2021-12-11T22:09:32.802667Z"
        },
        "trusted": true,
        "id": "pH2-Gb5foEs5",
        "colab": {
          "base_uri": "https://localhost:8080/"
        },
        "outputId": "0e365c29-b1e9-4375-9929-ba1929505d5d"
      },
      "execution_count": 10,
      "outputs": [
        {
          "output_type": "stream",
          "name": "stdout",
          "text": [
            "<class 'pandas.core.frame.DataFrame'>\n",
            "RangeIndex: 3600000 entries, 0 to 3599999\n",
            "Data columns (total 2 columns):\n",
            " #   Column  Dtype \n",
            "---  ------  ----- \n",
            " 0   label   int64 \n",
            " 1   review  object\n",
            "dtypes: int64(1), object(1)\n",
            "memory usage: 54.9+ MB\n",
            "None\n",
            "--------------------------------------------------------------------------------\n",
            "The Dataset contains class level count as\n",
            " 1    1800000\n",
            "0    1800000\n",
            "Name: label, dtype: int64\n"
          ]
        }
      ]
    },
    {
      "cell_type": "code",
      "source": [
        "df1 = data[data['label'] == 0]\n",
        "df2 = data[data['label'] == 1]\n",
        "print(len(df1),len(df2))"
      ],
      "metadata": {
        "execution": {
          "iopub.status.busy": "2021-12-11T22:09:32.804525Z",
          "iopub.execute_input": "2021-12-11T22:09:32.805080Z",
          "iopub.status.idle": "2021-12-11T22:09:32.887141Z",
          "shell.execute_reply.started": "2021-12-11T22:09:32.805048Z",
          "shell.execute_reply": "2021-12-11T22:09:32.886251Z"
        },
        "trusted": true,
        "id": "nV-cxazjoEs5",
        "colab": {
          "base_uri": "https://localhost:8080/"
        },
        "outputId": "fc19b99f-176c-4a33-80ca-634cf89c4298"
      },
      "execution_count": 11,
      "outputs": [
        {
          "output_type": "stream",
          "name": "stdout",
          "text": [
            "1800000 1800000\n"
          ]
        }
      ]
    },
    {
      "cell_type": "code",
      "source": [
        "df1 = df1.iloc[:150000]\n",
        "df2 = df2.iloc[:150000]\n",
        "frames = [df1, df2]"
      ],
      "metadata": {
        "id": "kRwQmXF31QxC"
      },
      "execution_count": 12,
      "outputs": []
    },
    {
      "cell_type": "code",
      "source": [
        "data_new = pd.concat(frames)\n",
        "data_new"
      ],
      "metadata": {
        "id": "57VEswB-0r_A",
        "colab": {
          "base_uri": "https://localhost:8080/",
          "height": 424
        },
        "outputId": "34c61ee5-9d0a-4110-8b1a-c907967a6b0d"
      },
      "execution_count": 13,
      "outputs": [
        {
          "output_type": "execute_result",
          "data": {
            "text/html": [
              "<div>\n",
              "<style scoped>\n",
              "    .dataframe tbody tr th:only-of-type {\n",
              "        vertical-align: middle;\n",
              "    }\n",
              "\n",
              "    .dataframe tbody tr th {\n",
              "        vertical-align: top;\n",
              "    }\n",
              "\n",
              "    .dataframe thead th {\n",
              "        text-align: right;\n",
              "    }\n",
              "</style>\n",
              "<table border=\"1\" class=\"dataframe\">\n",
              "  <thead>\n",
              "    <tr style=\"text-align: right;\">\n",
              "      <th></th>\n",
              "      <th>label</th>\n",
              "      <th>review</th>\n",
              "    </tr>\n",
              "  </thead>\n",
              "  <tbody>\n",
              "    <tr>\n",
              "      <th>0</th>\n",
              "      <td>0</td>\n",
              "      <td>Stuning even for the non-gamer This sound trac...</td>\n",
              "    </tr>\n",
              "    <tr>\n",
              "      <th>1</th>\n",
              "      <td>0</td>\n",
              "      <td>The best soundtrack ever to anything. I'm read...</td>\n",
              "    </tr>\n",
              "    <tr>\n",
              "      <th>2</th>\n",
              "      <td>0</td>\n",
              "      <td>Amazing! This soundtrack is my favorite music ...</td>\n",
              "    </tr>\n",
              "    <tr>\n",
              "      <th>3</th>\n",
              "      <td>0</td>\n",
              "      <td>Excellent Soundtrack I truly like this soundtr...</td>\n",
              "    </tr>\n",
              "    <tr>\n",
              "      <th>4</th>\n",
              "      <td>0</td>\n",
              "      <td>Remember, Pull Your Jaw Off The Floor After He...</td>\n",
              "    </tr>\n",
              "    <tr>\n",
              "      <th>...</th>\n",
              "      <td>...</td>\n",
              "      <td>...</td>\n",
              "    </tr>\n",
              "    <tr>\n",
              "      <th>304215</th>\n",
              "      <td>1</td>\n",
              "      <td>Very Disappointed This product arrived broken ...</td>\n",
              "    </tr>\n",
              "    <tr>\n",
              "      <th>304217</th>\n",
              "      <td>1</td>\n",
              "      <td>Missing Items As one other victim also writes,...</td>\n",
              "    </tr>\n",
              "    <tr>\n",
              "      <th>304219</th>\n",
              "      <td>1</td>\n",
              "      <td>When is this thing going to arrive!!! I have a...</td>\n",
              "    </tr>\n",
              "    <tr>\n",
              "      <th>304220</th>\n",
              "      <td>1</td>\n",
              "      <td>everything missing I bought the package and li...</td>\n",
              "    </tr>\n",
              "    <tr>\n",
              "      <th>304221</th>\n",
              "      <td>1</td>\n",
              "      <td>While the game is good, I have to mark down th...</td>\n",
              "    </tr>\n",
              "  </tbody>\n",
              "</table>\n",
              "<p>300000 rows × 2 columns</p>\n",
              "</div>"
            ],
            "text/plain": [
              "        label                                             review\n",
              "0           0  Stuning even for the non-gamer This sound trac...\n",
              "1           0  The best soundtrack ever to anything. I'm read...\n",
              "2           0  Amazing! This soundtrack is my favorite music ...\n",
              "3           0  Excellent Soundtrack I truly like this soundtr...\n",
              "4           0  Remember, Pull Your Jaw Off The Floor After He...\n",
              "...       ...                                                ...\n",
              "304215      1  Very Disappointed This product arrived broken ...\n",
              "304217      1  Missing Items As one other victim also writes,...\n",
              "304219      1  When is this thing going to arrive!!! I have a...\n",
              "304220      1  everything missing I bought the package and li...\n",
              "304221      1  While the game is good, I have to mark down th...\n",
              "\n",
              "[300000 rows x 2 columns]"
            ]
          },
          "metadata": {},
          "execution_count": 13
        }
      ]
    },
    {
      "cell_type": "code",
      "source": [
        "print(data_new.isnull().sum())"
      ],
      "metadata": {
        "execution": {
          "iopub.status.busy": "2021-12-11T22:09:32.888596Z",
          "iopub.execute_input": "2021-12-11T22:09:32.888890Z",
          "iopub.status.idle": "2021-12-11T22:09:33.504547Z",
          "shell.execute_reply.started": "2021-12-11T22:09:32.888847Z",
          "shell.execute_reply": "2021-12-11T22:09:33.503678Z"
        },
        "trusted": true,
        "id": "WH63g1WhoEs6",
        "colab": {
          "base_uri": "https://localhost:8080/"
        },
        "outputId": "7839ce34-e665-4207-d7cd-e3008e926d00"
      },
      "execution_count": 14,
      "outputs": [
        {
          "output_type": "stream",
          "name": "stdout",
          "text": [
            "label     0\n",
            "review    0\n",
            "dtype: int64\n"
          ]
        }
      ]
    },
    {
      "cell_type": "code",
      "source": [
        "print(len(data_new.review))\n",
        "print(len(data_new.review.unique()))"
      ],
      "metadata": {
        "execution": {
          "iopub.status.busy": "2021-12-11T22:09:33.586033Z",
          "iopub.execute_input": "2021-12-11T22:09:33.586447Z",
          "iopub.status.idle": "2021-12-11T22:09:42.895258Z",
          "shell.execute_reply.started": "2021-12-11T22:09:33.586414Z",
          "shell.execute_reply": "2021-12-11T22:09:42.894307Z"
        },
        "trusted": true,
        "id": "qKk0UxfjoEs7",
        "colab": {
          "base_uri": "https://localhost:8080/"
        },
        "outputId": "aa4159bc-e142-46d3-e6ed-04b8e4d43bba"
      },
      "execution_count": 15,
      "outputs": [
        {
          "output_type": "stream",
          "name": "stdout",
          "text": [
            "300000\n",
            "300000\n"
          ]
        }
      ]
    },
    {
      "cell_type": "code",
      "source": [
        "def smiley(a):\n",
        "    x1=a.replace(\":‑)\",\"happy\")\n",
        "    x2=x1.replace(\";)\",\"happy\")\n",
        "    x3=x2.replace(\":-}\",\"happy\")\n",
        "    x4=x3.replace(\":)\",\"happy\")\n",
        "    x5=x4.replace(\":}\",\"happy\")\n",
        "    x6=x5.replace(\"=]\",\"happy\")\n",
        "    x7=x6.replace(\"=)\",\"happy\")\n",
        "    x8=x7.replace(\":D\",\"happy\")\n",
        "    x9=x8.replace(\"xD\",\"happy\")\n",
        "    x10=x9.replace(\"XD\",\"happy\")\n",
        "    x11=x10.replace(\":‑(\",\"sad\")    #using 'replace' to convert emoticons\n",
        "    x12=x11.replace(\":‑[\",\"sad\")\n",
        "    x13=x12.replace(\":(\",\"sad\")\n",
        "    x14=x13.replace(\"=(\",\"sad\")\n",
        "    x15=x14.replace(\"=/\",\"sad\")\n",
        "    x16=x15.replace(\":[\",\"sad\")\n",
        "    x17=x16.replace(\":{\",\"sad\")\n",
        "  \n",
        "    x18=x17.replace(\":P\",\"playful\")\n",
        "    x19=x18.replace(\"XP\",\"playful\")\n",
        "    x20=x19.replace(\"xp\",\"playful\")\n",
        "  \n",
        "    \n",
        "    x21=x20.replace(\"<3\",\"love\")\n",
        "    x22=x21.replace(\":o\",\"shock\")\n",
        "    x23=x22.replace(\":-/\",\"sad\")\n",
        "    x24=x23.replace(\":/\",\"sad\")\n",
        "    x25=x24.replace(\":|\",\"sad\")\n",
        "    return x25"
      ],
      "metadata": {
        "execution": {
          "iopub.status.busy": "2021-12-11T22:09:43.491092Z",
          "iopub.execute_input": "2021-12-11T22:09:43.491682Z",
          "iopub.status.idle": "2021-12-11T22:09:43.503536Z",
          "shell.execute_reply.started": "2021-12-11T22:09:43.491644Z",
          "shell.execute_reply": "2021-12-11T22:09:43.502426Z"
        },
        "trusted": true,
        "id": "9Ck79Z4eoEs9"
      },
      "execution_count": 16,
      "outputs": []
    },
    {
      "cell_type": "code",
      "source": [
        "data_new['review']=data_new['review'].apply(smiley)"
      ],
      "metadata": {
        "execution": {
          "iopub.status.busy": "2021-12-11T22:09:43.504821Z",
          "iopub.execute_input": "2021-12-11T22:09:43.505107Z",
          "iopub.status.idle": "2021-12-11T22:10:16.492854Z",
          "shell.execute_reply.started": "2021-12-11T22:09:43.505044Z",
          "shell.execute_reply": "2021-12-11T22:10:16.491900Z"
        },
        "trusted": true,
        "id": "qAgp5rmzoEs9"
      },
      "execution_count": 17,
      "outputs": []
    },
    {
      "cell_type": "code",
      "source": [
        ""
      ],
      "metadata": {
        "id": "cXi9wHJ62HGG"
      },
      "execution_count": 17,
      "outputs": []
    },
    {
      "cell_type": "code",
      "source": [
        "import re\n",
        "def decontracted(phrase):\n",
        "    # specific\n",
        "    phrase = re.sub(r\"won\\'t\", \"will not\", phrase)\n",
        "    phrase = re.sub(r\"can\\'t\", \"can not\", phrase)\n",
        "\n",
        "    # general\n",
        "    phrase = re.sub(r\"n\\'t\", \" not\", phrase)\n",
        "    phrase = re.sub(r\"\\'re\", \" are\", phrase)\n",
        "    phrase = re.sub(r\"\\'s\", \" is\", phrase)   #using regular expressions to expand the contractions\n",
        "    phrase = re.sub(r\"\\'d\", \" would\", phrase)\n",
        "    phrase = re.sub(r\"\\'ll\", \" will\", phrase)\n",
        "    phrase = re.sub(r\"\\'t\", \" not\", phrase)\n",
        "    phrase = re.sub(r\"\\'ve\", \" have\", phrase)\n",
        "    phrase = re.sub(r\"\\'m\", \" am\", phrase)\n",
        "    phrase = re.sub(r\"@\", \" \", phrase)\n",
        "\n",
        "    return phrase"
      ],
      "metadata": {
        "execution": {
          "iopub.status.busy": "2021-12-11T22:10:16.496150Z",
          "iopub.execute_input": "2021-12-11T22:10:16.496405Z",
          "iopub.status.idle": "2021-12-11T22:10:16.506352Z",
          "shell.execute_reply.started": "2021-12-11T22:10:16.496375Z",
          "shell.execute_reply": "2021-12-11T22:10:16.505210Z"
        },
        "trusted": true,
        "id": "Iru_NucIoEs-"
      },
      "execution_count": 18,
      "outputs": []
    },
    {
      "cell_type": "code",
      "source": [
        "data_new['review']=data_new['review'].apply(decontracted)"
      ],
      "metadata": {
        "execution": {
          "iopub.status.busy": "2021-12-11T22:10:16.507857Z",
          "iopub.execute_input": "2021-12-11T22:10:16.508277Z",
          "iopub.status.idle": "2021-12-11T22:11:25.045581Z",
          "shell.execute_reply.started": "2021-12-11T22:10:16.508231Z",
          "shell.execute_reply": "2021-12-11T22:11:25.044425Z"
        },
        "trusted": true,
        "id": "6lYwTl4doEs-"
      },
      "execution_count": 19,
      "outputs": []
    },
    {
      "cell_type": "code",
      "source": [
        "from nltk.stem import WordNetLemmatizer\n",
        "import nltk\n",
        "nltk.download('wordnet')\n",
        "\n",
        "lemmatizer = WordNetLemmatizer()\n",
        "def lemmatize(x):\n",
        "    temp = \"\"\n",
        "    for i in range(len(x.split())):\n",
        "        lem = lemmatizer.lemmatize(x.split()[i], pos=\"v\")\n",
        "        temp += lem + \" \"\n",
        "    temp = temp.rstrip()\n",
        "    return temp\n",
        "    \n",
        "from gensim.parsing.preprocessing import strip_tags, strip_punctuation, strip_multiple_whitespaces, strip_numeric, remove_stopwords, strip_short, stem_text \n",
        "def clean_func(text):\n",
        "    text = strip_tags(text)\n",
        "    text = strip_punctuation(text)\n",
        "    text = strip_multiple_whitespaces(text)\n",
        "    text = remove_stopwords(text)\n",
        "    text = strip_short(text, minsize=2)\n",
        "    text = text.lower()\n",
        "    text = lemmatize(text)\n",
        "    return text"
      ],
      "metadata": {
        "colab": {
          "base_uri": "https://localhost:8080/"
        },
        "id": "Lo347u0wUjpi",
        "outputId": "a908c365-ea7f-434a-f682-2788a8e72789"
      },
      "execution_count": 20,
      "outputs": [
        {
          "output_type": "stream",
          "name": "stdout",
          "text": [
            "[nltk_data] Downloading package wordnet to /root/nltk_data...\n",
            "[nltk_data]   Unzipping corpora/wordnet.zip.\n"
          ]
        }
      ]
    },
    {
      "cell_type": "code",
      "source": [
        "data_new['review']=data_new['review'].apply(clean_func)"
      ],
      "metadata": {
        "id": "dmBY_sLxViA8"
      },
      "execution_count": 21,
      "outputs": []
    },
    {
      "cell_type": "code",
      "source": [
        "X=data.drop(['label'], axis = 1)  # seperating the class label\n",
        "y=data[\"label\"].values"
      ],
      "metadata": {
        "id": "VAw5tP-z29zf"
      },
      "execution_count": 22,
      "outputs": []
    },
    {
      "cell_type": "code",
      "source": [
        "from sklearn.model_selection import train_test_split\n",
        "X_train, X_test, y_train, y_test = train_test_split(X, y, test_size=0.30, random_state=42)"
      ],
      "metadata": {
        "execution": {
          "iopub.status.busy": "2021-12-11T22:19:35.465909Z",
          "iopub.execute_input": "2021-12-11T22:19:35.466192Z",
          "iopub.status.idle": "2021-12-11T22:19:35.683436Z",
          "shell.execute_reply.started": "2021-12-11T22:19:35.466162Z",
          "shell.execute_reply": "2021-12-11T22:19:35.682423Z"
        },
        "trusted": true,
        "id": "FjeW9atroEs_"
      },
      "execution_count": 43,
      "outputs": []
    },
    {
      "cell_type": "code",
      "source": [
        "from sklearn.feature_extraction.text import TfidfVectorizer\n",
        "from wordcloud import WordCloud           \n",
        "from itertools import chain\n",
        "from sklearn.metrics import confusion_matrix\n",
        "from sklearn.metrics import roc_curve, auc\n",
        "from sklearn.model_selection import train_test_split\n",
        "from sklearn.naive_bayes import MultinomialNB\n",
        "from sklearn.model_selection import GridSearchCV\n",
        "from nltk.stem.snowball import SnowballStemmer"
      ],
      "metadata": {
        "execution": {
          "iopub.status.busy": "2021-12-11T22:19:35.684825Z",
          "iopub.execute_input": "2021-12-11T22:19:35.685053Z",
          "iopub.status.idle": "2021-12-11T22:19:37.407538Z",
          "shell.execute_reply.started": "2021-12-11T22:19:35.685025Z",
          "shell.execute_reply": "2021-12-11T22:19:37.406581Z"
        },
        "trusted": true,
        "id": "94TXvbieoEtA"
      },
      "execution_count": 24,
      "outputs": []
    },
    {
      "cell_type": "code",
      "source": [
        "#Vectorizing\n",
        "vectorizer = TfidfVectorizer() #Using TFIDF to vectorize the text"
      ],
      "metadata": {
        "id": "NZSAKmWowVB0"
      },
      "execution_count": 25,
      "outputs": []
    },
    {
      "cell_type": "code",
      "source": [
        "vectorizer = TfidfVectorizer(stop_words=\"english\",min_df=10,max_features=1000) \n",
        "vectorizer.fit(X_train['review'].values)           # Training the TFIDF model\n",
        "x_tr=vectorizer.transform(X_train['review'].values)\n",
        "x_te=vectorizer.transform(X_test['review'].values)"
      ],
      "metadata": {
        "id": "OeaRL5PNyO6m"
      },
      "execution_count": 26,
      "outputs": []
    },
    {
      "cell_type": "code",
      "source": [
        "print(x_tr.shape)\n",
        "print(x_te.shape)"
      ],
      "metadata": {
        "trusted": true,
        "id": "EY4q_IwmoEtB",
        "colab": {
          "base_uri": "https://localhost:8080/"
        },
        "outputId": "33c9bfc0-0784-48b2-d3fb-dd4b6707849a"
      },
      "execution_count": 27,
      "outputs": [
        {
          "output_type": "stream",
          "name": "stdout",
          "text": [
            "(2520000, 1000)\n",
            "(1080000, 1000)\n"
          ]
        }
      ]
    },
    {
      "cell_type": "code",
      "source": [
        "y = y_train\n",
        "y_te = y_test"
      ],
      "metadata": {
        "id": "cRulp41pr_zR"
      },
      "execution_count": 44,
      "outputs": []
    },
    {
      "cell_type": "code",
      "source": [
        "from sklearn import model_selection\n",
        "from sklearn import metrics"
      ],
      "metadata": {
        "id": "OPFBzT403Ez2"
      },
      "execution_count": 37,
      "outputs": []
    },
    {
      "cell_type": "code",
      "source": [
        "NB_clf = MultinomialNB()\n",
        "\n",
        "kf = model_selection.KFold(n_splits=5, shuffle=False)\n",
        "kf_precision = []\n",
        "kf_recall = []\n",
        "kf_f1 =[]\n",
        "for train_index, test_index in kf.split(x_tr):\n",
        "    print(\"TRAIN:\", train_index[:5], \"TEST:\", test_index[:5])\n",
        "    \n",
        "    X_train, X_test = x_tr[train_index], x_tr[test_index]\n",
        "    y_train, y_test = y[train_index], y[test_index]\n",
        "    \n",
        "    NB_clf.fit(X_train, y_train)\n",
        "    \n",
        "    y_pred = NB_clf.predict(X_test)\n",
        "    \n",
        "    kf_precision.append(metrics.precision_score(y_test, y_pred, average=\"weighted\"))\n",
        "    kf_recall.append(metrics.recall_score(y_test, y_pred, average=\"weighted\"))\n",
        "    kf_f1.append(metrics.f1_score(y_test, y_pred, average=\"weighted\"))\n",
        "    \n",
        "    print(\"precision={}\".format(metrics.precision_score(y_test, y_pred, average=\"weighted\")))\n",
        "    print(\"recall=   {}\".format(metrics.recall_score(y_test, y_pred, average=\"weighted\")))\n",
        "    print(\"f1=       {}\".format(metrics.f1_score(y_test, y_pred, average=\"weighted\")))\n",
        "    print()\n",
        "\n",
        "print(\"Precision\")\n",
        "print(\"Mean: \",np.mean(kf_precision),\"  Std Dev: \",np.std(kf_precision))\n",
        "print()\n",
        "print(\"Recall\")\n",
        "print(\"Mean: \",np.mean(kf_recall),\"  Std Dev: \",np.std(kf_recall))\n",
        "print()\n",
        "print(\"F1\")\n",
        "print(\"Mean: \",np.mean(kf_f1),\"  Std Dev: \",np.std(kf_f1))"
      ],
      "metadata": {
        "id": "t0o7-_x7EQof",
        "colab": {
          "base_uri": "https://localhost:8080/"
        },
        "outputId": "4321b6f4-fb1d-4a5a-c39a-1b6487f610a2"
      },
      "execution_count": 45,
      "outputs": [
        {
          "output_type": "stream",
          "name": "stdout",
          "text": [
            "TRAIN: [504000 504001 504002 504003 504004] TEST: [0 1 2 3 4]\n",
            "precision=0.8277141458350049\n",
            "recall=   0.8274384920634921\n",
            "f1=       0.8274111400605237\n",
            "\n",
            "TRAIN: [0 1 2 3 4] TEST: [504000 504001 504002 504003 504004]\n",
            "precision=0.828099292631322\n",
            "recall=   0.8278690476190477\n",
            "f1=       0.8278373401985342\n",
            "\n",
            "TRAIN: [0 1 2 3 4] TEST: [1008000 1008001 1008002 1008003 1008004]\n",
            "precision=0.8281947746110414\n",
            "recall=   0.8279603174603175\n",
            "f1=       0.8279320186110893\n",
            "\n",
            "TRAIN: [0 1 2 3 4] TEST: [1512000 1512001 1512002 1512003 1512004]\n",
            "precision=0.8280984570434144\n",
            "recall=   0.827920634920635\n",
            "f1=       0.8278930849098496\n",
            "\n",
            "TRAIN: [0 1 2 3 4] TEST: [2016000 2016001 2016002 2016003 2016004]\n",
            "precision=0.8273771259023247\n",
            "recall=   0.8271805555555556\n",
            "f1=       0.8271498043346154\n",
            "\n",
            "Precision\n",
            "Mean:  0.8278967592046215   Std Dev:  0.00030785756485329514\n",
            "\n",
            "Recall\n",
            "Mean:  0.8276738095238094   Std Dev:  0.00030977452198682287\n",
            "\n",
            "F1\n",
            "Mean:  0.8276446776229225   Std Dev:  0.0003101061935052402\n"
          ]
        }
      ]
    },
    {
      "cell_type": "code",
      "source": [
        "from sklearn.linear_model import LogisticRegression\n",
        "\n",
        "logreg_clf = LogisticRegression(C=10000.0, max_iter = 1000,random_state=0)\n",
        "\n",
        "\n",
        "kf = model_selection.KFold(n_splits=5, shuffle=False)\n",
        "lr_precision = []\n",
        "lr_recall = []\n",
        "lr_f1 =[]\n",
        "for train_index, test_index in kf.split(df1):\n",
        "    print(\"TRAIN:\", train_index[:5], \"TEST:\", test_index[:5])\n",
        "    \n",
        "    X_train, X_test = x_tr[train_index], x_tr[test_index]\n",
        "    y_train, y_test = y[train_index], y[test_index]\n",
        "    \n",
        "    logreg_clf.fit(X_train, y_train)\n",
        "    \n",
        "    y_pred = logreg_clf.predict(X_test)\n",
        "    \n",
        "    lr_precision.append(metrics.precision_score(y_test, y_pred, average=\"weighted\"))\n",
        "    lr_recall.append(metrics.recall_score(y_test, y_pred, average=\"weighted\"))\n",
        "    lr_f1.append(metrics.f1_score(y_test, y_pred, average=\"weighted\"))\n",
        "    \n",
        "    print(\"precision={}\".format(metrics.precision_score(y_test, y_pred, average=\"weighted\")))\n",
        "    print(\"recall=   {}\".format(metrics.recall_score(y_test, y_pred, average=\"weighted\")))\n",
        "    print(\"f1=       {}\".format(metrics.f1_score(y_test, y_pred, average=\"weighted\")))\n",
        "    print()\n",
        "    \n",
        "print(\"Precision\")\n",
        "print(\"Mean: \",np.mean(lr_precision),\"  Std Dev: \",np.std(lr_precision))\n",
        "print()\n",
        "print(\"Recall\")\n",
        "print(\"Mean: \",np.mean(lr_recall),\"  Std Dev: \",np.std(lr_recall))\n",
        "print()\n",
        "print(\"F1\")\n",
        "print(\"Mean: \",np.mean(lr_f1),\"  Std Dev: \",np.std(lr_f1))"
      ],
      "metadata": {
        "colab": {
          "base_uri": "https://localhost:8080/"
        },
        "id": "WacGuN4LWQZ5",
        "outputId": "77caaeae-78e8-46f8-eb75-7095cdff416f"
      },
      "execution_count": 49,
      "outputs": [
        {
          "output_type": "stream",
          "name": "stdout",
          "text": [
            "TRAIN: [30000 30001 30002 30003 30004] TEST: [0 1 2 3 4]\n",
            "precision=0.850483440295171\n",
            "recall=   0.8503333333333334\n",
            "f1=       0.8503175568252789\n",
            "\n",
            "TRAIN: [0 1 2 3 4] TEST: [30000 30001 30002 30003 30004]\n",
            "precision=0.851389697900477\n",
            "recall=   0.8513666666666667\n",
            "f1=       0.8513681465716683\n",
            "\n",
            "TRAIN: [0 1 2 3 4] TEST: [60000 60001 60002 60003 60004]\n",
            "precision=0.8537652772554382\n",
            "recall=   0.8537\n",
            "f1=       0.853688779943749\n",
            "\n",
            "TRAIN: [0 1 2 3 4] TEST: [90000 90001 90002 90003 90004]\n",
            "precision=0.8548427526304404\n",
            "recall=   0.8548\n",
            "f1=       0.8548011306268944\n",
            "\n",
            "TRAIN: [0 1 2 3 4] TEST: [120000 120001 120002 120003 120004]\n",
            "precision=0.8503598406784513\n",
            "recall=   0.8503333333333334\n",
            "f1=       0.8503338734641741\n",
            "\n",
            "Precision\n",
            "Mean:  0.8521682017519956   Std Dev:  0.001812099983479259\n",
            "\n",
            "Recall\n",
            "Mean:  0.8521066666666666   Std Dev:  0.0018237202514518175\n",
            "\n",
            "F1\n",
            "Mean:  0.852101897486353   Std Dev:  0.001824950762248301\n"
          ]
        }
      ]
    },
    {
      "cell_type": "code",
      "source": [
        "from sklearn.neighbors import KNeighborsClassifier\n",
        "\n",
        "kn_clf = KNeighborsClassifier()\n",
        "\n",
        "\n",
        "kf = model_selection.KFold(n_splits=5, shuffle=False)\n",
        "kn_clf_precision = []\n",
        "kn_clf_recall = []\n",
        "kn_clf_f1 =[]\n",
        "for train_index, test_index in kf.split(df1):\n",
        "    print(\"TRAIN:\", train_index[:5], \"TEST:\", test_index[:5])\n",
        "    \n",
        "    X_train, X_test = x_tr[train_index], x_tr[test_index]\n",
        "    y_train, y_test = y[train_index], y[test_index]\n",
        "    \n",
        "    kn_clf.fit(X_train, y_train)\n",
        "    \n",
        "    y_pred = kn_clf.predict(X_test)\n",
        "    \n",
        "    kn_clf_precision.append(metrics.precision_score(y_test, y_pred, average=\"weighted\"))\n",
        "    kn_clf_precision.append(metrics.recall_score(y_test, y_pred, average=\"weighted\"))\n",
        "    kn_clf_f1.append(metrics.f1_score(y_test, y_pred, average=\"weighted\"))\n",
        "    \n",
        "    print(\"precision={}\".format(metrics.precision_score(y_test, y_pred, average=\"weighted\")))\n",
        "    print(\"recall=   {}\".format(metrics.recall_score(y_test, y_pred, average=\"weighted\")))\n",
        "    print(\"f1=       {}\".format(metrics.f1_score(y_test, y_pred, average=\"weighted\")))\n",
        "    print()\n",
        "    \n",
        "print(\"Precision\")\n",
        "print(\"Mean: \",np.mean(kn_clf_precision),\"  Std Dev: \",np.std(kn_clf_precision))\n",
        "print()\n",
        "print(\"Recall\")\n",
        "print(\"Mean: \",np.mean(kn_clf_recall),\"  Std Dev: \",np.std(kn_clf_recall))\n",
        "print()\n",
        "print(\"F1\")\n",
        "print(\"Mean: \",np.mean(kn_clf_f1),\"  Std Dev: \",np.std(kn_clf_f1))"
      ],
      "metadata": {
        "colab": {
          "base_uri": "https://localhost:8080/"
        },
        "id": "EaKgcBE3b62D",
        "outputId": "823fe73a-cb05-4f0f-dc08-7e9134f9756e"
      },
      "execution_count": 55,
      "outputs": [
        {
          "output_type": "stream",
          "name": "stdout",
          "text": [
            "TRAIN: [30000 30001 30002 30003 30004] TEST: [0 1 2 3 4]\n",
            "precision=0.5815755736679437\n",
            "recall=   0.5652666666666667\n",
            "f1=       0.5424455488224991\n",
            "\n",
            "TRAIN: [0 1 2 3 4] TEST: [30000 30001 30002 30003 30004]\n",
            "precision=0.5900398867190577\n",
            "recall=   0.5610333333333334\n",
            "f1=       0.5254735380483997\n",
            "\n",
            "TRAIN: [0 1 2 3 4] TEST: [60000 60001 60002 60003 60004]\n",
            "precision=0.5897570253727695\n",
            "recall=   0.5680333333333333\n",
            "f1=       0.5388143850358571\n",
            "\n",
            "TRAIN: [0 1 2 3 4] TEST: [90000 90001 90002 90003 90004]\n",
            "precision=0.5914102596121543\n",
            "recall=   0.5639666666666666\n",
            "f1=       0.5313468372618319\n",
            "\n",
            "TRAIN: [0 1 2 3 4] TEST: [120000 120001 120002 120003 120004]\n",
            "precision=0.598143460920327\n",
            "recall=   0.5665333333333333\n",
            "f1=       0.530601567218037\n",
            "\n",
            "Precision\n",
            "Mean:  0.5775759539625586   Std Dev:  0.013257171885673392\n",
            "\n",
            "Recall\n",
            "Mean:  nan   Std Dev:  nan\n",
            "\n",
            "F1\n",
            "Mean:  0.5337363752773249   Std Dev:  0.006090111321075918\n"
          ]
        },
        {
          "output_type": "stream",
          "name": "stderr",
          "text": [
            "/usr/local/lib/python3.7/dist-packages/numpy/core/fromnumeric.py:3373: RuntimeWarning: Mean of empty slice.\n",
            "  out=out, **kwargs)\n",
            "/usr/local/lib/python3.7/dist-packages/numpy/core/_methods.py:170: RuntimeWarning: invalid value encountered in double_scalars\n",
            "  ret = ret.dtype.type(ret / rcount)\n",
            "/usr/local/lib/python3.7/dist-packages/numpy/core/_methods.py:234: RuntimeWarning: Degrees of freedom <= 0 for slice\n",
            "  keepdims=keepdims)\n",
            "/usr/local/lib/python3.7/dist-packages/numpy/core/_methods.py:195: RuntimeWarning: invalid value encountered in true_divide\n",
            "  arrmean, rcount, out=arrmean, casting='unsafe', subok=False)\n",
            "/usr/local/lib/python3.7/dist-packages/numpy/core/_methods.py:226: RuntimeWarning: invalid value encountered in double_scalars\n",
            "  ret = ret.dtype.type(ret / rcount)\n"
          ]
        }
      ]
    },
    {
      "cell_type": "code",
      "source": [
        "import sklearn.tree\n",
        "\n",
        "tree_clf = sklearn.tree.DecisionTreeClassifier(criterion='entropy',max_depth=200)\n",
        "\n",
        "\n",
        "kf = model_selection.KFold(n_splits=5, shuffle=False)\n",
        "tree_clf_precision = []\n",
        "tree_clf_recall = []\n",
        "tree_clf_f1 =[]\n",
        "for train_index, test_index in kf.split(df1):\n",
        "    print(\"TRAIN:\", train_index[:5], \"TEST:\", test_index[:5])\n",
        "    \n",
        "    X_train, X_test = x_tr[train_index], x_tr[test_index]\n",
        "    y_train, y_test = y[train_index], y[test_index]\n",
        "    \n",
        "    tree_clf.fit(X_train, y_train)\n",
        "    \n",
        "    y_pred = tree_clf.predict(X_test)\n",
        "    \n",
        "    tree_clf_precision.append(metrics.precision_score(y_test, y_pred, average=\"weighted\"))\n",
        "    tree_clf_recall.append(metrics.recall_score(y_test, y_pred, average=\"weighted\"))\n",
        "    tree_clf_f1.append(metrics.f1_score(y_test, y_pred, average=\"weighted\"))\n",
        "    \n",
        "    print(\"precision={}\".format(metrics.precision_score(y_test, y_pred, average=\"weighted\")))\n",
        "    print(\"recall=   {}\".format(metrics.recall_score(y_test, y_pred, average=\"weighted\")))\n",
        "    print(\"f1=       {}\".format(metrics.f1_score(y_test, y_pred, average=\"weighted\")))\n",
        "    print()\n",
        "    \n",
        "print(\"Precision\")\n",
        "print(\"Mean: \",np.mean(tree_clf_precision),\"  Std Dev: \",np.std(tree_clf_precision))\n",
        "print()\n",
        "print(\"Recall\")\n",
        "print(\"Mean: \",np.mean(tree_clf_recall),\"  Std Dev: \",np.std(tree_clf_recall))\n",
        "print()\n",
        "print(\"F1\")\n",
        "print(\"Mean: \",np.mean(tree_clf_f1),\"  Std Dev: \",np.std(tree_clf_f1))"
      ],
      "metadata": {
        "colab": {
          "base_uri": "https://localhost:8080/"
        },
        "id": "JqIxk9lUjmSz",
        "outputId": "eb71d5c4-a0d5-48c8-eaa7-59215b857bde"
      },
      "execution_count": 56,
      "outputs": [
        {
          "output_type": "stream",
          "name": "stdout",
          "text": [
            "TRAIN: [30000 30001 30002 30003 30004] TEST: [0 1 2 3 4]\n",
            "precision=0.7490270512417828\n",
            "recall=   0.7489333333333333\n",
            "f1=       0.7489092196590255\n",
            "\n",
            "TRAIN: [0 1 2 3 4] TEST: [30000 30001 30002 30003 30004]\n",
            "precision=0.7493380577571499\n",
            "recall=   0.7492666666666666\n",
            "f1=       0.7492243714358849\n",
            "\n",
            "TRAIN: [0 1 2 3 4] TEST: [60000 60001 60002 60003 60004]\n",
            "precision=0.7467396978398654\n",
            "recall=   0.7467\n",
            "f1=       0.7466972601277361\n",
            "\n",
            "TRAIN: [0 1 2 3 4] TEST: [90000 90001 90002 90003 90004]\n",
            "precision=0.7523617559319231\n",
            "recall=   0.7523\n",
            "f1=       0.7522619966284466\n",
            "\n",
            "TRAIN: [0 1 2 3 4] TEST: [120000 120001 120002 120003 120004]\n",
            "precision=0.7491387021067056\n",
            "recall=   0.749\n",
            "f1=       0.7489413833863127\n",
            "\n",
            "Precision\n",
            "Mean:  0.7493210529754852   Std Dev:  0.0017904885828647571\n",
            "\n",
            "Recall\n",
            "Mean:  0.74924   Std Dev:  0.0017870397620397373\n",
            "\n",
            "F1\n",
            "Mean:  0.7492068462474812   Std Dev:  0.0017771508428816448\n"
          ]
        }
      ]
    },
    {
      "cell_type": "code",
      "source": [
        "from sklearn.metrics import PrecisionRecallDisplay"
      ],
      "metadata": {
        "id": "__iKyOB0q1Hi"
      },
      "execution_count": 57,
      "outputs": []
    },
    {
      "cell_type": "code",
      "source": [
        "Test_scores = pd.DataFrame(columns = ['Classifier','Precision','Recall','F1'])"
      ],
      "metadata": {
        "id": "Ml_EOO-CzXkC"
      },
      "execution_count": 60,
      "outputs": []
    },
    {
      "cell_type": "markdown",
      "source": [
        "## **NAIVE** **BAYES**"
      ],
      "metadata": {
        "id": "RHIXvWkGq2Mf"
      }
    },
    {
      "cell_type": "code",
      "source": [
        "display = PrecisionRecallDisplay.from_estimator(\n",
        "    NB_clf, x_te, y_te, name=\"Naive Bayes\")\n",
        "_ = display.ax_.set_title(\"2-class Precision-Recall curve\")"
      ],
      "metadata": {
        "colab": {
          "base_uri": "https://localhost:8080/",
          "height": 295
        },
        "id": "nuj8UnsZq_Xg",
        "outputId": "a2f9088f-fe4b-4feb-cae3-a20fbfceaa38"
      },
      "execution_count": 61,
      "outputs": [
        {
          "output_type": "display_data",
          "data": {
            "image/png": "[encoded data removed]",
            "text/plain": [
              "<Figure size 432x288 with 1 Axes>"
            ]
          },
          "metadata": {
            "needs_background": "light"
          }
        }
      ]
    },
    {
      "cell_type": "code",
      "source": [
        "y_pred = NB_clf.predict(x_te)\n",
        "p=metrics.precision_score(y_te, y_pred, average=\"weighted\")\n",
        "r=metrics.recall_score(y_te, y_pred, average=\"weighted\")\n",
        "f1=metrics.f1_score(y_te, y_pred, average=\"weighted\")\n",
        "print(\"precision={}\".format(p))\n",
        "print(\"recall=   {}\".format(r))\n",
        "print(\"f1=       {}\".format(f1))\n",
        "Test_scores = Test_scores.append({'Classifier' : 'Naive Bayes','Precision' : p,'Recall': r,'F1':f1}, ignore_index = True)"
      ],
      "metadata": {
        "colab": {
          "base_uri": "https://localhost:8080/"
        },
        "id": "ILitn1wEs2EG",
        "outputId": "7b53ba1f-5f44-4ae2-8757-6a4e03b27f7a"
      },
      "execution_count": 64,
      "outputs": [
        {
          "output_type": "stream",
          "name": "stdout",
          "text": [
            "precision=0.8277882219172047\n",
            "recall=   0.8275851851851852\n",
            "f1=       0.827558702592812\n"
          ]
        }
      ]
    },
    {
      "cell_type": "markdown",
      "source": [
        "## **LOGISTIC** **REGRESSION**"
      ],
      "metadata": {
        "id": "-zq1WDhAzCeb"
      }
    },
    {
      "cell_type": "code",
      "source": [
        "display = PrecisionRecallDisplay.from_estimator(\n",
        "    logreg_clf, x_te, y_te, name=\"Logistic Regression\")\n",
        "_ = display.ax_.set_title(\"2-class Precision-Recall curve\")"
      ],
      "metadata": {
        "colab": {
          "base_uri": "https://localhost:8080/",
          "height": 295
        },
        "outputId": "da7153dd-45aa-4319-b642-ff03d57ceb85",
        "id": "T4X79ECKzCeb"
      },
      "execution_count": 65,
      "outputs": [
        {
          "output_type": "display_data",
          "data": {
            "image/png": "[encoded data removed]",
            "text/plain": [
              "<Figure size 432x288 with 1 Axes>"
            ]
          },
          "metadata": {
            "needs_background": "light"
          }
        }
      ]
    },
    {
      "cell_type": "code",
      "source": [
        "y_pred = logreg_clf.predict(x_te)\n",
        "p=metrics.precision_score(y_te, y_pred, average=\"weighted\")\n",
        "r=metrics.recall_score(y_te, y_pred, average=\"weighted\")\n",
        "f1=metrics.f1_score(y_te, y_pred, average=\"weighted\")\n",
        "print(\"precision={}\".format(p))\n",
        "print(\"recall=   {}\".format(r))\n",
        "print(\"f1=       {}\".format(f1))\n",
        "Test_scores = Test_scores.append({'Classifier' : 'Logistic Regression','Precision' : p,'Recall': r,'F1':f1}, ignore_index = True)"
      ],
      "metadata": {
        "colab": {
          "base_uri": "https://localhost:8080/"
        },
        "outputId": "cf88747f-179c-424c-ee43-64425b3217c7",
        "id": "9ldmnE7uzCec"
      },
      "execution_count": 66,
      "outputs": [
        {
          "output_type": "stream",
          "name": "stdout",
          "text": [
            "precision=0.8552812090069776\n",
            "recall=   0.8552361111111111\n",
            "f1=       0.8552315969025807\n"
          ]
        }
      ]
    },
    {
      "cell_type": "markdown",
      "source": [
        "## **DECISION** **TREES**"
      ],
      "metadata": {
        "id": "l4c3GwDkzRe3"
      }
    },
    {
      "cell_type": "code",
      "source": [
        "y_pred = tree_clf.predict(x_te)\n",
        "p=metrics.precision_score(y_te, y_pred, average=\"weighted\")\n",
        "r=metrics.recall_score(y_te, y_pred, average=\"weighted\")\n",
        "f1=metrics.f1_score(y_te, y_pred, average=\"weighted\")\n",
        "print(\"precision={}\".format(p))\n",
        "print(\"recall=   {}\".format(r))\n",
        "print(\"f1=       {}\".format(f1))\n",
        "Test_scores = Test_scores.append({'Classifier' : 'Decision Tree','Precision' : p,'Recall': r,'F1':f1}, ignore_index = True)"
      ],
      "metadata": {
        "colab": {
          "base_uri": "https://localhost:8080/"
        },
        "outputId": "d1b268f7-d2f5-4379-80cc-08efd5b0deaa",
        "id": "emmln6xxzRe4"
      },
      "execution_count": 79,
      "outputs": [
        {
          "output_type": "stream",
          "name": "stdout",
          "text": [
            "precision=0.752006691892264\n",
            "recall=   0.7519166666666667\n",
            "f1=       0.7518942231061254\n"
          ]
        }
      ]
    },
    {
      "cell_type": "code",
      "source": [
        "display = PrecisionRecallDisplay.from_predictions(y_te, y_pred, name=\"Decision Tree\")\n",
        "_ = display.ax_.set_title(\"2-class Precision-Recall curve\")"
      ],
      "metadata": {
        "colab": {
          "base_uri": "https://localhost:8080/",
          "height": 295
        },
        "outputId": "e23c51c5-5515-43b2-ee57-4dbb15d77c8e",
        "id": "TjZhlYcrzRe4"
      },
      "execution_count": 80,
      "outputs": [
        {
          "output_type": "display_data",
          "data": {
            "image/png": "[encoded data removed]",
            "text/plain": [
              "<Figure size 432x288 with 1 Axes>"
            ]
          },
          "metadata": {
            "needs_background": "light"
          }
        }
      ]
    },
    {
      "cell_type": "markdown",
      "source": [
        "## **K** **NEIGHBOR**"
      ],
      "metadata": {
        "id": "4Cvrzu3GzDcW"
      }
    },
    {
      "cell_type": "code",
      "source": [
        "y_pred = kn_clf.predict(x_te)\n",
        "p=metrics.precision_score(y_te, y_pred, average=\"weighted\")\n",
        "r=metrics.recall_score(y_te, y_pred, average=\"weighted\")\n",
        "f1=metrics.f1_score(y_te, y_pred, average=\"weighted\")\n",
        "print(\"precision={}\".format(p))\n",
        "print(\"recall=   {}\".format(r))\n",
        "print(\"f1=       {}\".format(f1))\n",
        "Test_scores = Test_scores.append({'Classifier' : 'K Neighbors','Precision' : p,'Recall': r,'F1':f1}, ignore_index = True)"
      ],
      "metadata": {
        "colab": {
          "base_uri": "https://localhost:8080/",
          "height": 415
        },
        "outputId": "57121c27-682a-4eb3-e7d5-81a164e99fee",
        "id": "OSzFSPxQzDcX"
      },
      "execution_count": 78,
      "outputs": [
        {
          "output_type": "error",
          "ename": "KeyboardInterrupt",
          "evalue": "ignored",
          "traceback": [
            "\u001b[0;31m---------------------------------------------------------------------------\u001b[0m",
            "\u001b[0;31mKeyboardInterrupt\u001b[0m                         Traceback (most recent call last)",
            "\u001b[0;32m<ipython-input-78-4553ac1acc12>\u001b[0m in \u001b[0;36m<module>\u001b[0;34m()\u001b[0m\n\u001b[0;32m----> 1\u001b[0;31m \u001b[0my_pred\u001b[0m \u001b[0;34m=\u001b[0m \u001b[0mkn_clf\u001b[0m\u001b[0;34m.\u001b[0m\u001b[0mpredict\u001b[0m\u001b[0;34m(\u001b[0m\u001b[0mx_te\u001b[0m\u001b[0;34m)\u001b[0m\u001b[0;34m\u001b[0m\u001b[0;34m\u001b[0m\u001b[0m\n\u001b[0m\u001b[1;32m      2\u001b[0m \u001b[0mp\u001b[0m\u001b[0;34m=\u001b[0m\u001b[0mmetrics\u001b[0m\u001b[0;34m.\u001b[0m\u001b[0mprecision_score\u001b[0m\u001b[0;34m(\u001b[0m\u001b[0my_te\u001b[0m\u001b[0;34m,\u001b[0m \u001b[0my_pred\u001b[0m\u001b[0;34m,\u001b[0m \u001b[0maverage\u001b[0m\u001b[0;34m=\u001b[0m\u001b[0;34m\"weighted\"\u001b[0m\u001b[0;34m)\u001b[0m\u001b[0;34m\u001b[0m\u001b[0;34m\u001b[0m\u001b[0m\n\u001b[1;32m      3\u001b[0m \u001b[0mr\u001b[0m\u001b[0;34m=\u001b[0m\u001b[0mmetrics\u001b[0m\u001b[0;34m.\u001b[0m\u001b[0mrecall_score\u001b[0m\u001b[0;34m(\u001b[0m\u001b[0my_te\u001b[0m\u001b[0;34m,\u001b[0m \u001b[0my_pred\u001b[0m\u001b[0;34m,\u001b[0m \u001b[0maverage\u001b[0m\u001b[0;34m=\u001b[0m\u001b[0;34m\"weighted\"\u001b[0m\u001b[0;34m)\u001b[0m\u001b[0;34m\u001b[0m\u001b[0;34m\u001b[0m\u001b[0m\n\u001b[1;32m      4\u001b[0m \u001b[0mf1\u001b[0m\u001b[0;34m=\u001b[0m\u001b[0mmetrics\u001b[0m\u001b[0;34m.\u001b[0m\u001b[0mf1_score\u001b[0m\u001b[0;34m(\u001b[0m\u001b[0my_te\u001b[0m\u001b[0;34m,\u001b[0m \u001b[0my_pred\u001b[0m\u001b[0;34m,\u001b[0m \u001b[0maverage\u001b[0m\u001b[0;34m=\u001b[0m\u001b[0;34m\"weighted\"\u001b[0m\u001b[0;34m)\u001b[0m\u001b[0;34m\u001b[0m\u001b[0;34m\u001b[0m\u001b[0m\n\u001b[1;32m      5\u001b[0m \u001b[0mprint\u001b[0m\u001b[0;34m(\u001b[0m\u001b[0;34m\"precision={}\"\u001b[0m\u001b[0;34m.\u001b[0m\u001b[0mformat\u001b[0m\u001b[0;34m(\u001b[0m\u001b[0mp\u001b[0m\u001b[0;34m)\u001b[0m\u001b[0;34m)\u001b[0m\u001b[0;34m\u001b[0m\u001b[0;34m\u001b[0m\u001b[0m\n",
            "\u001b[0;32m/usr/local/lib/python3.7/dist-packages/sklearn/neighbors/_classification.py\u001b[0m in \u001b[0;36mpredict\u001b[0;34m(self, X)\u001b[0m\n\u001b[1;32m    212\u001b[0m             \u001b[0mClass\u001b[0m \u001b[0mlabels\u001b[0m \u001b[0;32mfor\u001b[0m \u001b[0meach\u001b[0m \u001b[0mdata\u001b[0m \u001b[0msample\u001b[0m\u001b[0;34m.\u001b[0m\u001b[0;34m\u001b[0m\u001b[0;34m\u001b[0m\u001b[0m\n\u001b[1;32m    213\u001b[0m         \"\"\"\n\u001b[0;32m--> 214\u001b[0;31m         \u001b[0mneigh_dist\u001b[0m\u001b[0;34m,\u001b[0m \u001b[0mneigh_ind\u001b[0m \u001b[0;34m=\u001b[0m \u001b[0mself\u001b[0m\u001b[0;34m.\u001b[0m\u001b[0mkneighbors\u001b[0m\u001b[0;34m(\u001b[0m\u001b[0mX\u001b[0m\u001b[0;34m)\u001b[0m\u001b[0;34m\u001b[0m\u001b[0;34m\u001b[0m\u001b[0m\n\u001b[0m\u001b[1;32m    215\u001b[0m         \u001b[0mclasses_\u001b[0m \u001b[0;34m=\u001b[0m \u001b[0mself\u001b[0m\u001b[0;34m.\u001b[0m\u001b[0mclasses_\u001b[0m\u001b[0;34m\u001b[0m\u001b[0;34m\u001b[0m\u001b[0m\n\u001b[1;32m    216\u001b[0m         \u001b[0m_y\u001b[0m \u001b[0;34m=\u001b[0m \u001b[0mself\u001b[0m\u001b[0;34m.\u001b[0m\u001b[0m_y\u001b[0m\u001b[0;34m\u001b[0m\u001b[0;34m\u001b[0m\u001b[0m\n",
            "\u001b[0;32m/usr/local/lib/python3.7/dist-packages/sklearn/neighbors/_base.py\u001b[0m in \u001b[0;36mkneighbors\u001b[0;34m(self, X, n_neighbors, return_distance)\u001b[0m\n\u001b[1;32m    754\u001b[0m                     \u001b[0mmetric\u001b[0m\u001b[0;34m=\u001b[0m\u001b[0mself\u001b[0m\u001b[0;34m.\u001b[0m\u001b[0meffective_metric_\u001b[0m\u001b[0;34m,\u001b[0m\u001b[0;34m\u001b[0m\u001b[0;34m\u001b[0m\u001b[0m\n\u001b[1;32m    755\u001b[0m                     \u001b[0mn_jobs\u001b[0m\u001b[0;34m=\u001b[0m\u001b[0mn_jobs\u001b[0m\u001b[0;34m,\u001b[0m\u001b[0;34m\u001b[0m\u001b[0;34m\u001b[0m\u001b[0m\n\u001b[0;32m--> 756\u001b[0;31m                     \u001b[0;34m**\u001b[0m\u001b[0mkwds\u001b[0m\u001b[0;34m,\u001b[0m\u001b[0;34m\u001b[0m\u001b[0;34m\u001b[0m\u001b[0m\n\u001b[0m\u001b[1;32m    757\u001b[0m                 )\n\u001b[1;32m    758\u001b[0m             )\n",
            "\u001b[0;32m/usr/local/lib/python3.7/dist-packages/sklearn/metrics/pairwise.py\u001b[0m in \u001b[0;36mpairwise_distances_chunked\u001b[0;34m(X, Y, reduce_func, metric, n_jobs, working_memory, **kwds)\u001b[0m\n\u001b[1;32m   1719\u001b[0m         \u001b[0;32mif\u001b[0m \u001b[0mreduce_func\u001b[0m \u001b[0;32mis\u001b[0m \u001b[0;32mnot\u001b[0m \u001b[0;32mNone\u001b[0m\u001b[0;34m:\u001b[0m\u001b[0;34m\u001b[0m\u001b[0;34m\u001b[0m\u001b[0m\n\u001b[1;32m   1720\u001b[0m             \u001b[0mchunk_size\u001b[0m \u001b[0;34m=\u001b[0m \u001b[0mD_chunk\u001b[0m\u001b[0;34m.\u001b[0m\u001b[0mshape\u001b[0m\u001b[0;34m[\u001b[0m\u001b[0;36m0\u001b[0m\u001b[0;34m]\u001b[0m\u001b[0;34m\u001b[0m\u001b[0;34m\u001b[0m\u001b[0m\n\u001b[0;32m-> 1721\u001b[0;31m             \u001b[0mD_chunk\u001b[0m \u001b[0;34m=\u001b[0m \u001b[0mreduce_func\u001b[0m\u001b[0;34m(\u001b[0m\u001b[0mD_chunk\u001b[0m\u001b[0;34m,\u001b[0m \u001b[0msl\u001b[0m\u001b[0;34m.\u001b[0m\u001b[0mstart\u001b[0m\u001b[0;34m)\u001b[0m\u001b[0;34m\u001b[0m\u001b[0;34m\u001b[0m\u001b[0m\n\u001b[0m\u001b[1;32m   1722\u001b[0m             \u001b[0m_check_chunk_size\u001b[0m\u001b[0;34m(\u001b[0m\u001b[0mD_chunk\u001b[0m\u001b[0;34m,\u001b[0m \u001b[0mchunk_size\u001b[0m\u001b[0;34m)\u001b[0m\u001b[0;34m\u001b[0m\u001b[0;34m\u001b[0m\u001b[0m\n\u001b[1;32m   1723\u001b[0m         \u001b[0;32myield\u001b[0m \u001b[0mD_chunk\u001b[0m\u001b[0;34m\u001b[0m\u001b[0;34m\u001b[0m\u001b[0m\n",
            "\u001b[0;32m/usr/local/lib/python3.7/dist-packages/sklearn/neighbors/_base.py\u001b[0m in \u001b[0;36m_kneighbors_reduce_func\u001b[0;34m(self, dist, start, n_neighbors, return_distance)\u001b[0m\n\u001b[1;32m    629\u001b[0m         \"\"\"\n\u001b[1;32m    630\u001b[0m         \u001b[0msample_range\u001b[0m \u001b[0;34m=\u001b[0m \u001b[0mnp\u001b[0m\u001b[0;34m.\u001b[0m\u001b[0marange\u001b[0m\u001b[0;34m(\u001b[0m\u001b[0mdist\u001b[0m\u001b[0;34m.\u001b[0m\u001b[0mshape\u001b[0m\u001b[0;34m[\u001b[0m\u001b[0;36m0\u001b[0m\u001b[0;34m]\u001b[0m\u001b[0;34m)\u001b[0m\u001b[0;34m[\u001b[0m\u001b[0;34m:\u001b[0m\u001b[0;34m,\u001b[0m \u001b[0;32mNone\u001b[0m\u001b[0;34m]\u001b[0m\u001b[0;34m\u001b[0m\u001b[0;34m\u001b[0m\u001b[0m\n\u001b[0;32m--> 631\u001b[0;31m         \u001b[0mneigh_ind\u001b[0m \u001b[0;34m=\u001b[0m \u001b[0mnp\u001b[0m\u001b[0;34m.\u001b[0m\u001b[0margpartition\u001b[0m\u001b[0;34m(\u001b[0m\u001b[0mdist\u001b[0m\u001b[0;34m,\u001b[0m \u001b[0mn_neighbors\u001b[0m \u001b[0;34m-\u001b[0m \u001b[0;36m1\u001b[0m\u001b[0;34m,\u001b[0m \u001b[0maxis\u001b[0m\u001b[0;34m=\u001b[0m\u001b[0;36m1\u001b[0m\u001b[0;34m)\u001b[0m\u001b[0;34m\u001b[0m\u001b[0;34m\u001b[0m\u001b[0m\n\u001b[0m\u001b[1;32m    632\u001b[0m         \u001b[0mneigh_ind\u001b[0m \u001b[0;34m=\u001b[0m \u001b[0mneigh_ind\u001b[0m\u001b[0;34m[\u001b[0m\u001b[0;34m:\u001b[0m\u001b[0;34m,\u001b[0m \u001b[0;34m:\u001b[0m\u001b[0mn_neighbors\u001b[0m\u001b[0;34m]\u001b[0m\u001b[0;34m\u001b[0m\u001b[0;34m\u001b[0m\u001b[0m\n\u001b[1;32m    633\u001b[0m         \u001b[0;31m# argpartition doesn't guarantee sorted order, so we sort again\u001b[0m\u001b[0;34m\u001b[0m\u001b[0;34m\u001b[0m\u001b[0;34m\u001b[0m\u001b[0m\n",
            "\u001b[0;32m<__array_function__ internals>\u001b[0m in \u001b[0;36margpartition\u001b[0;34m(*args, **kwargs)\u001b[0m\n",
            "\u001b[0;32m/usr/local/lib/python3.7/dist-packages/numpy/core/fromnumeric.py\u001b[0m in \u001b[0;36margpartition\u001b[0;34m(a, kth, axis, kind, order)\u001b[0m\n\u001b[1;32m    830\u001b[0m \u001b[0;34m\u001b[0m\u001b[0m\n\u001b[1;32m    831\u001b[0m     \"\"\"\n\u001b[0;32m--> 832\u001b[0;31m     \u001b[0;32mreturn\u001b[0m \u001b[0m_wrapfunc\u001b[0m\u001b[0;34m(\u001b[0m\u001b[0ma\u001b[0m\u001b[0;34m,\u001b[0m \u001b[0;34m'argpartition'\u001b[0m\u001b[0;34m,\u001b[0m \u001b[0mkth\u001b[0m\u001b[0;34m,\u001b[0m \u001b[0maxis\u001b[0m\u001b[0;34m=\u001b[0m\u001b[0maxis\u001b[0m\u001b[0;34m,\u001b[0m \u001b[0mkind\u001b[0m\u001b[0;34m=\u001b[0m\u001b[0mkind\u001b[0m\u001b[0;34m,\u001b[0m \u001b[0morder\u001b[0m\u001b[0;34m=\u001b[0m\u001b[0morder\u001b[0m\u001b[0;34m)\u001b[0m\u001b[0;34m\u001b[0m\u001b[0;34m\u001b[0m\u001b[0m\n\u001b[0m\u001b[1;32m    833\u001b[0m \u001b[0;34m\u001b[0m\u001b[0m\n\u001b[1;32m    834\u001b[0m \u001b[0;34m\u001b[0m\u001b[0m\n",
            "\u001b[0;32m/usr/local/lib/python3.7/dist-packages/numpy/core/fromnumeric.py\u001b[0m in \u001b[0;36m_wrapfunc\u001b[0;34m(obj, method, *args, **kwds)\u001b[0m\n\u001b[1;32m     56\u001b[0m \u001b[0;34m\u001b[0m\u001b[0m\n\u001b[1;32m     57\u001b[0m     \u001b[0;32mtry\u001b[0m\u001b[0;34m:\u001b[0m\u001b[0;34m\u001b[0m\u001b[0;34m\u001b[0m\u001b[0m\n\u001b[0;32m---> 58\u001b[0;31m         \u001b[0;32mreturn\u001b[0m \u001b[0mbound\u001b[0m\u001b[0;34m(\u001b[0m\u001b[0;34m*\u001b[0m\u001b[0margs\u001b[0m\u001b[0;34m,\u001b[0m \u001b[0;34m**\u001b[0m\u001b[0mkwds\u001b[0m\u001b[0;34m)\u001b[0m\u001b[0;34m\u001b[0m\u001b[0;34m\u001b[0m\u001b[0m\n\u001b[0m\u001b[1;32m     59\u001b[0m     \u001b[0;32mexcept\u001b[0m \u001b[0mTypeError\u001b[0m\u001b[0;34m:\u001b[0m\u001b[0;34m\u001b[0m\u001b[0;34m\u001b[0m\u001b[0m\n\u001b[1;32m     60\u001b[0m         \u001b[0;31m# A TypeError occurs if the object does have such a method in its\u001b[0m\u001b[0;34m\u001b[0m\u001b[0;34m\u001b[0m\u001b[0;34m\u001b[0m\u001b[0m\n",
            "\u001b[0;31mKeyboardInterrupt\u001b[0m: "
          ]
        }
      ]
    },
    {
      "cell_type": "code",
      "source": [
        "display = PrecisionRecallDisplay.from_predictions(y_te, y_pred, name=\"K Neighbors\")\n",
        "_ = display.ax_.set_title(\"2-class Precision-Recall curve\")"
      ],
      "metadata": {
        "id": "Ej-Pzak2zDcW"
      },
      "execution_count": null,
      "outputs": []
    }
  ]
}